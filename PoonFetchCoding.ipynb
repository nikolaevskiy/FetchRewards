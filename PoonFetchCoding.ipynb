{
 "cells": [
  {
   "cell_type": "markdown",
   "metadata": {},
   "source": [
    "### This notebook shows a python program that takes in two text files and calculate the (Jaccard) similarity between them. It requires only the re package for cleaning the text."
   ]
  },
  {
   "cell_type": "code",
   "execution_count": 1,
   "metadata": {},
   "outputs": [],
   "source": [
    "import re"
   ]
  },
  {
   "cell_type": "markdown",
   "metadata": {},
   "source": [
    "#### We clean the text for comparison by 1) lowercasing the words, and 2) write out shorten words like \"you'll\" to \"you will\" so that they are uniformly presented among the sample texts. Note that we do not perform any stemming/lemmatization since it will be much better handled by using the libraries like NLTK."
   ]
  },
  {
   "cell_type": "code",
   "execution_count": 2,
   "metadata": {},
   "outputs": [],
   "source": [
    "def txt_to_str(file):\n",
    "    with open(file, 'r') as f:\n",
    "        data = f.read().replace('\\n', '').lower()\n",
    "        data = re.sub('don\\'t', 'do not', data)\n",
    "        data = re.sub('you\\'ll', 'you will', data)\n",
    "        data = re.sub('we\\'ll', 'we will', data)\n",
    "    return data"
   ]
  },
  {
   "cell_type": "markdown",
   "metadata": {},
   "source": [
    "#### Define the function to calculate the Jaccard similarity, which is the comparing the ratio of the number of overlapping words between two texts to the total number of unique words in the text. It will have a value of 1 if the unique words between the two texts are the same and 0 if there are no words in common."
   ]
  },
  {
   "cell_type": "code",
   "execution_count": 14,
   "metadata": {},
   "outputs": [],
   "source": [
    "def get_jaccard_sim(str1, str2): \n",
    "    set1 = set(str1.split()) \n",
    "    set2 = set(str2.split())\n",
    "    intset = set1.intersection(set2)\n",
    "    return float(len(intset)) / (len(set1) + len(set2) - len(intset))"
   ]
  },
  {
   "cell_type": "code",
   "execution_count": 15,
   "metadata": {},
   "outputs": [],
   "source": [
    "def text_sim(text1,text2):\n",
    "    str1 = txt_to_str(text1)\n",
    "    str2 = txt_to_str(text2)\n",
    "    return get_jaccard_sim(str1,str2)"
   ]
  },
  {
   "cell_type": "markdown",
   "metadata": {},
   "source": [
    "#### Here we show that sample text 1 and text 2 are much more similiar when compare to text 1 and text 3. "
   ]
  },
  {
   "cell_type": "code",
   "execution_count": 16,
   "metadata": {},
   "outputs": [
    {
     "data": {
      "text/plain": [
       "0.7368421052631579"
      ]
     },
     "execution_count": 16,
     "metadata": {},
     "output_type": "execute_result"
    }
   ],
   "source": [
    "get_sim('sample1.txt', 'sample2.txt')"
   ]
  },
  {
   "cell_type": "code",
   "execution_count": 17,
   "metadata": {},
   "outputs": [
    {
     "data": {
      "text/plain": [
       "0.19047619047619047"
      ]
     },
     "execution_count": 17,
     "metadata": {},
     "output_type": "execute_result"
    }
   ],
   "source": [
    "get_sim('sample1.txt', 'sample3.txt')"
   ]
  }
 ],
 "metadata": {
  "kernelspec": {
   "display_name": "Python 3",
   "language": "python",
   "name": "python3"
  },
  "language_info": {
   "codemirror_mode": {
    "name": "ipython",
    "version": 3
   },
   "file_extension": ".py",
   "mimetype": "text/x-python",
   "name": "python",
   "nbconvert_exporter": "python",
   "pygments_lexer": "ipython3",
   "version": "3.6.8"
  }
 },
 "nbformat": 4,
 "nbformat_minor": 2
}
